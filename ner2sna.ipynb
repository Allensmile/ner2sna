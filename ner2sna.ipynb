{
 "cells": [
  {
   "cell_type": "markdown",
   "metadata": {},
   "source": [
    "# From Raw Text to Social Network Analysis\n",
    "In this guide we'll take a set of documents, extract entities from within them, and develop a social network based on entity document co-occurrence. This can be a useful approach for getting a sense of which entities exist in a set of documents and how those entities might be related. I'll talk more about using document co-occurrence as the mechanism for drawing an edge in a social network graph later.\n",
    "\n",
    "This guide relies on two primary pieces of software for natural language processing. I'll be using the [Natural Language Toolkit](http://www.nltk.org/) for text pre-processing and [Stanford Core NLP](https://stanfordnlp.github.io/CoreNLP/) running on Docker for entity extraction."
   ]
  },
  {
   "cell_type": "markdown",
   "metadata": {},
   "source": [
    "## Getting Set Up\n",
    "First, we need to get Core NLP running on Docker. If you're not familiar with Docker, that's ok! It's a really easy to use containerization service. The concept is that anywhere you can run docker you can run a docker container. Period. No need to worry about dependency management, just get docker running and pull down the container you need. Easy.\n",
    "\n",
    "### Installing Docker\n",
    "Docker has great instructions for installing Docker. I'm using a Mac so I followed their [Mac OSX Docker installation guide](https://docs.docker.com/docker-for-mac/install/). If you're using Windows check out their [Windows install guide.](https://docs.docker.com/docker-for-windows/install/). If you're using Linux I'm pretty sure you'll be able to get Docker installed on your own.\n",
    "\n",
    "To verify the installation was successful go to your command line and try running:\n",
    "\n",
    "```\n",
    "docker ps\n",
    "```\n",
    "\n",
    "You should an empty the docker container listing looks like (I truncated a couple columns, but you get the idea):\n",
    "```\n",
    "CONTAINER ID        IMAGE               COMMAND             CREATED\n",
    "```      \n",
    "If this isn't empty you already had docker running with a container. If you are not able to run the `docker` or `docker ps` commands from your command line, **STOP**. You need to get this installed before continuing.\n",
    "\n",
    "### Installing the Core NLP container\n",
    "This part is pretty easy. You just need to run the following command at your command line:\n",
    "```\n",
    "docker run -p 9000:9000 --name coreNLP --rm -i -t motiz88/corenlp\n",
    "```\n",
    "This will pull motiz88's Docker port of Core NLP and run it using port 9000. This means that port 9000 from the container will be forwarded to port 9000 on your localhost (your computer). So, you can access the Core NLP API over `http://localhost:9000`. Note that this is a fairly large container so it may take a few minutes to download and install.\n",
    "\n",
    "To make sure that the server is running, in your browser go to http://localhost:9000. You should see:\n",
    "![Stanford Core NLP Server](core_nlp_server.png \"Core NLP Server\")\n",
    "\n",
    "If you don't, don't move forward until you can verify the Core NLP server is running. You might try `docker ps` to see if the container is listed. If it is, you can scope out the logs with `docker logs coreNLP`. If it *is* running feel free to play around with the server UI. Input some text to get a feel for how it works!"
   ]
  },
  {
   "cell_type": "markdown",
   "metadata": {},
   "source": [
    "### Validating Core NLP works\n",
    "To use Core NLP Server, we are going to leverage the `pycorenlp` Python wrapper which can be `pip install`ed. "
   ]
  },
  {
   "cell_type": "code",
   "execution_count": 5,
   "metadata": {
    "collapsed": false
   },
   "outputs": [],
   "source": [
    "from pycorenlp import StanfordCoreNLP\n",
    "nlp = StanfordCoreNLP('http://localhost:9000')"
   ]
  },
  {
   "cell_type": "code",
   "execution_count": 166,
   "metadata": {
    "collapsed": false
   },
   "outputs": [],
   "source": [
    "text = (\"Bill and Ted are excellent! \"\n",
    "        \"Pusheen Smith and Jillian Marie walked along the beach. \"\n",
    "        \"Pusheen wanted to surf, but fell off the surfboard. \"\n",
    "        \"They are both friends with Jean Claude van Dam, Sam's neighbor.\")\n",
    "output = nlp.annotate(text, properties={\n",
    "  'annotators': 'ner',\n",
    "  'outputFormat': 'json'\n",
    "  })"
   ]
  },
  {
   "cell_type": "code",
   "execution_count": 167,
   "metadata": {
    "collapsed": false
   },
   "outputs": [],
   "source": [
    "def proc_sentence(tokens):\n",
    "    \"\"\"\n",
    "    Takes as input a set of tokens from Stanford Core NLP output and returns \n",
    "    the set of peoplefound within the sentence. This relies on the fact that\n",
    "    named entities which are contiguous within a sentence should be part of \n",
    "    the same name. For example, in the following:\n",
    "    [\n",
    "        {'word': 'Brandon', 'ner': 'PERSON'},\n",
    "        {'word': 'Rose', 'ner': 'PERSON'},\n",
    "        {'word': 'eats', 'ner': 'O'},\n",
    "        {'word': 'bananas', 'ner': 'O'}\n",
    "    ]\n",
    "    we can safely assume that the contiguous PERSONs Brandon + Rose are part of the \n",
    "    same named entity, Brandon Rose.\n",
    "    \"\"\"\n",
    "    people = set()\n",
    "    token_count = 0\n",
    "    for i in range(len(tokens)):\n",
    "        if token_count < len(tokens):\n",
    "            person = ''\n",
    "            token = tokens[token_count]\n",
    "            if token['ner'] == 'PERSON':\n",
    "                person += token['word'].lower()\n",
    "                checking = True\n",
    "                while checking == True:\n",
    "                    if token_count + 1 < len(tokens):\n",
    "                        if tokens[token_count + 1]['ner'] == 'PERSON':\n",
    "                            token_count += 1\n",
    "                            person += ' {}'.format(tokens[token_count]['word'].lower())\n",
    "                        else:\n",
    "                            checking = False\n",
    "                            token_count += 1\n",
    "                    else:\n",
    "                        checking = False\n",
    "                        token_count += 1\n",
    "            else:\n",
    "                token_count += 1\n",
    "            if person != '':\n",
    "                people.add(person)\n",
    "    return people"
   ]
  },
  {
   "cell_type": "code",
   "execution_count": 168,
   "metadata": {
    "collapsed": false
   },
   "outputs": [
    {
     "name": "stdout",
     "output_type": "stream",
     "text": [
      "set([u'bill', u'ted'])\n",
      "set([u'pusheen smith', u'jillian marie'])\n",
      "set([u'pusheen'])\n",
      "set([u'jean claude van dam', u'sam'])\n"
     ]
    }
   ],
   "source": [
    "for sent in output['sentences']:\n",
    "    people = proc_sentence(sent['tokens'])\n",
    "    print(people)"
   ]
  },
  {
   "cell_type": "code",
   "execution_count": 165,
   "metadata": {
    "collapsed": false
   },
   "outputs": [
    {
     "data": {
      "text/plain": [
       "1"
      ]
     },
     "execution_count": 165,
     "metadata": {},
     "output_type": "execute_result"
    }
   ],
   "source": [
    "len(output['sentences'])"
   ]
  },
  {
   "cell_type": "code",
   "execution_count": 151,
   "metadata": {
    "collapsed": false
   },
   "outputs": [
    {
     "data": {
      "text/plain": [
       "{u'jean claude van dam', u'jillian marie', u'pusheen smith', u'sam'}"
      ]
     },
     "execution_count": 151,
     "metadata": {},
     "output_type": "execute_result"
    }
   ],
   "source": [
    "people"
   ]
  },
  {
   "cell_type": "code",
   "execution_count": 43,
   "metadata": {
    "collapsed": false
   },
   "outputs": [],
   "source": [
    "def extract_people(output):\n",
    "    \"\"\"\n",
    "    Process Core NLP output and return the named entities which are people (in lowercase form).\n",
    "    \"\"\"\n",
    "    people = set()\n",
    "    for sentence in output['sentences']:\n",
    "        for token in sentence['tokens']:\n",
    "            if token['ner'] == 'PERSON':\n",
    "                people.add(token['word'].lower())\n",
    "    return people"
   ]
  },
  {
   "cell_type": "code",
   "execution_count": 44,
   "metadata": {
    "collapsed": false
   },
   "outputs": [
    {
     "data": {
      "text/plain": [
       "{u'jillian', u'marie', u'pusheen', u'smith'}"
      ]
     },
     "execution_count": 44,
     "metadata": {},
     "output_type": "execute_result"
    }
   ],
   "source": [
    "extract_people(output)"
   ]
  },
  {
   "cell_type": "code",
   "execution_count": 20,
   "metadata": {
    "collapsed": false
   },
   "outputs": [],
   "source": [
    "from fuzzywuzzy.process import dedupe as fuzzy_dedupe"
   ]
  },
  {
   "cell_type": "markdown",
   "metadata": {},
   "source": [
    "Note that you may be asked to install `python-Levenshtein` to speed up fuzzywuzzy; you can do this with `pip install python-Levenshtein`."
   ]
  },
  {
   "cell_type": "markdown",
   "metadata": {},
   "source": [
    "### Working with MITIE"
   ]
  },
  {
   "cell_type": "markdown",
   "metadata": {},
   "source": [
    "First we're going to define a basic function that helps us talk with MITIE. Note that the raw output from MITIE is somewhat tricky to work with, since you are actually provided the character locations for each token. Let's start with an example document."
   ]
  },
  {
   "cell_type": "code",
   "execution_count": 13,
   "metadata": {
    "collapsed": false
   },
   "outputs": [
    {
     "name": "stdout",
     "output_type": "stream",
     "text": [
      "A Pegasus Airlines plane landed at an Istanbul airport Friday after a passenger \" said that there was a bomb on board \" and wanted the plane to land in Sochi , Russia , the site of the Winter Olympics , said officials with Turkey 's Transportation Ministry . Meredith Vieira will become the first woman to host Olympics primetime coverage on her own when she fills on Friday night for the ailing Bob Costas , who is battling a continuing eye infection . \" It 's an honor to fill in for him , \" Vieira said on TODAY Friday . \" You think about the Olympics , and you think the athletes and then Bob Costas . \" \" Bob 's eye issue has improved but he 's not quite ready to do the show , \" NBC Olympics Executive Producer Jim Bell told TODAY . com from Sochi on Thursday . From wikipedia we learn that Josiah Franklin 's son , Benjamin Franklin was born in Boston . Since wikipedia allows anyone to edit it , you could change the entry to say that Philadelphia is the birthplace of Benjamin Franklin . However , that would be a bad edit since Benjamin Franklin was definitely born in Boston .\n"
     ]
    }
   ],
   "source": [
    "sample = 'A Pegasus Airlines plane landed at an Istanbul airport Friday after a passenger \" said that there was a bomb on board \" and wanted the plane to land in Sochi , Russia , the site of the Winter Olympics , said officials with Turkey \\'s Transportation Ministry . Meredith Vieira will become the first woman to host Olympics primetime coverage on her own when she fills on Friday night for the ailing Bob Costas , who is battling a continuing eye infection . \" It \\'s an honor to fill in for him , \" Vieira said on TODAY Friday . \" You think about the Olympics , and you think the athletes and then Bob Costas . \" \" Bob \\'s eye issue has improved but he \\'s not quite ready to do the show , \" NBC Olympics Executive Producer Jim Bell told TODAY . com from Sochi on Thursday . From wikipedia we learn that Josiah Franklin \\'s son , Benjamin Franklin was born in Boston . Since wikipedia allows anyone to edit it , you could change the entry to say that Philadelphia is the birthplace of Benjamin Franklin . However , that would be a bad edit since Benjamin Franklin was definitely born in Boston .'\n",
    "print sample"
   ]
  },
  {
   "cell_type": "markdown",
   "metadata": {},
   "source": [
    "To use MITIE's pre-trained named entity recognition (NER) model I would run"
   ]
  },
  {
   "cell_type": "code",
   "execution_count": 14,
   "metadata": {
    "collapsed": false
   },
   "outputs": [
    {
     "name": "stdout",
     "output_type": "stream",
     "text": [
      "[(xrange(1, 3), 'ORGANIZATION'), (xrange(7, 8), 'LOCATION'), (xrange(30, 31), 'LOCATION'), (xrange(32, 33), 'LOCATION'), (xrange(44, 45), 'LOCATION'), (xrange(46, 48), 'ORGANIZATION'), (xrange(49, 51), 'PERSON'), (xrange(58, 59), 'MISC'), (xrange(73, 75), 'PERSON'), (xrange(96, 97), 'PERSON'), (xrange(107, 108), 'MISC'), (xrange(116, 118), 'PERSON'), (xrange(121, 122), 'PERSON'), (xrange(139, 141), 'ORGANIZATION'), (xrange(143, 145), 'PERSON'), (xrange(150, 151), 'LOCATION'), (xrange(159, 161), 'PERSON'), (xrange(164, 166), 'PERSON'), (xrange(169, 170), 'LOCATION'), (xrange(187, 188), 'LOCATION'), (xrange(192, 194), 'PERSON'), (xrange(204, 206), 'PERSON'), (xrange(210, 211), 'LOCATION')]\n"
     ]
    }
   ],
   "source": [
    "tokens = tokenize(sample)\n",
    "entities = ner_model.extract_entities(tokens)\n",
    "print entities"
   ]
  },
  {
   "cell_type": "markdown",
   "metadata": {},
   "source": [
    "This returns a list of tuples for each entity where the first item is the `xrange` of the entity and the second item is the entity type. Since we actually want to work with the entity itself, we need to conver the xrange locations into the actual token, which is accomplished by the `talk_to_mitie` function below."
   ]
  },
  {
   "cell_type": "code",
   "execution_count": 3,
   "metadata": {
    "collapsed": true
   },
   "outputs": [],
   "source": [
    "def talk_to_mitie(text, ner_model=ner_model):\n",
    "    # Function that accepts text to MITIE and gets entities and HTML in response\n",
    "    text = text.encode(\"utf-8\")\n",
    "    tokens = tokenize(text)\n",
    "    tokens.append(' x ')\n",
    "    entities = ner_model.extract_entities(tokens)\n",
    "    out = []\n",
    "    for e in entities:\n",
    "        range = e[0]\n",
    "        tag = e[1]\n",
    "        entity_text = str(\" \").join(tokens[i] for i in range)\n",
    "        out.append({u'tag': unicode(tag), u'text': entity_text})\n",
    "    return {\"entities\": out}"
   ]
  },
  {
   "cell_type": "markdown",
   "metadata": {},
   "source": [
    "Now, we can get a lot more useful information. The output here is a JSON object of entities where the key is `entities` and the value is a list of json object entity `tag`, `text` pairs."
   ]
  },
  {
   "cell_type": "code",
   "execution_count": 16,
   "metadata": {
    "collapsed": false
   },
   "outputs": [
    {
     "data": {
      "text/plain": [
       "{'entities': [{u'tag': u'ORGANIZATION', u'text': 'Pegasus Airlines'},\n",
       "  {u'tag': u'LOCATION', u'text': 'Istanbul'},\n",
       "  {u'tag': u'LOCATION', u'text': 'Sochi'},\n",
       "  {u'tag': u'LOCATION', u'text': 'Russia'},\n",
       "  {u'tag': u'LOCATION', u'text': 'Turkey'},\n",
       "  {u'tag': u'ORGANIZATION', u'text': 'Transportation Ministry'},\n",
       "  {u'tag': u'PERSON', u'text': 'Meredith Vieira'},\n",
       "  {u'tag': u'MISC', u'text': 'Olympics'},\n",
       "  {u'tag': u'PERSON', u'text': 'Bob Costas'},\n",
       "  {u'tag': u'PERSON', u'text': 'Vieira'},\n",
       "  {u'tag': u'MISC', u'text': 'Olympics'},\n",
       "  {u'tag': u'PERSON', u'text': 'Bob Costas'},\n",
       "  {u'tag': u'PERSON', u'text': 'Bob'},\n",
       "  {u'tag': u'ORGANIZATION', u'text': 'NBC Olympics'},\n",
       "  {u'tag': u'PERSON', u'text': 'Jim Bell'},\n",
       "  {u'tag': u'LOCATION', u'text': 'Sochi'},\n",
       "  {u'tag': u'PERSON', u'text': 'Josiah Franklin'},\n",
       "  {u'tag': u'PERSON', u'text': 'Benjamin Franklin'},\n",
       "  {u'tag': u'LOCATION', u'text': 'Boston'},\n",
       "  {u'tag': u'LOCATION', u'text': 'Philadelphia'},\n",
       "  {u'tag': u'PERSON', u'text': 'Benjamin Franklin'},\n",
       "  {u'tag': u'PERSON', u'text': 'Benjamin Franklin'},\n",
       "  {u'tag': u'LOCATION', u'text': 'Boston'}]}"
      ]
     },
     "execution_count": 16,
     "metadata": {},
     "output_type": "execute_result"
    }
   ],
   "source": [
    "talk_to_mitie(sample)"
   ]
  },
  {
   "cell_type": "markdown",
   "metadata": {},
   "source": [
    "Notice that 'Benjamin Franklin' was found multiple times. This presents a problem: MITIE can find entities for us, but it can't detect whether that entity has already occurred in a document. This is a problem known as **entity resolution**. I won't discuss in detail the various approaches for entity resolution, however I will present one solution. Since we will be looking for entities on a per document basis, if two entities are of the same type and similarly spelled we should reconcile them to the same entity.\n",
    "\n",
    "To help with this, we'll use something called [fuzzywuzzy](https://github.com/seatgeek/fuzzywuzzy). Specifically, we'll use the fuzzy deduplication function (shameless plug, this is something I contributed to the fuzzywuzzy project). We can use the defaults, however you are welcome to tune the [parameters](https://github.com/seatgeek/fuzzywuzzy/blob/master/fuzzywuzzy/process.py#L167-L193). As an example of what fuzzy deduping is, let's try it:"
   ]
  },
  {
   "cell_type": "code",
   "execution_count": 5,
   "metadata": {
    "collapsed": false
   },
   "outputs": [
    {
     "name": "stdout",
     "output_type": "stream",
     "text": [
      "['Frodo Baggin', 'Frodo Baggins', 'F. Baggins', 'Samwise G.', 'Gandalf', 'Bilbo Baggins']\n"
     ]
    }
   ],
   "source": [
    "contains_dupes = ['Frodo Baggin', 'Frodo Baggins', 'F. Baggins', 'Samwise G.', 'Gandalf', 'Bilbo Baggins']\n",
    "print contains_dupes"
   ]
  },
  {
   "cell_type": "markdown",
   "metadata": {},
   "source": [
    "Here we have a list containing duplicates with slight spelling variations. Using fuzzywuzzy's dedupe function we can take care of this pretty easily:"
   ]
  },
  {
   "cell_type": "code",
   "execution_count": 6,
   "metadata": {
    "collapsed": false
   },
   "outputs": [
    {
     "data": {
      "text/plain": [
       "['Frodo Baggins', 'Samwise G.', 'Bilbo Baggins', 'Gandalf']"
      ]
     },
     "execution_count": 6,
     "metadata": {},
     "output_type": "execute_result"
    }
   ],
   "source": [
    "fuzzy_dedupe(contains_dupes)"
   ]
  },
  {
   "cell_type": "markdown",
   "metadata": {},
   "source": [
    "That looks like a useful list of entities to me! Now, I'll incorporate fuzzy deduplication into a function called `get_entities`"
   ]
  },
  {
   "cell_type": "code",
   "execution_count": 7,
   "metadata": {
    "collapsed": false
   },
   "outputs": [],
   "source": [
    "def get_entities(text):\n",
    "    \n",
    "    # get MITIE output\n",
    "    model_output = talk_to_mitie(text)\n",
    "    \n",
    "    # generate empty lists\n",
    "    people = []\n",
    "    places = []\n",
    "    orgs = []\n",
    "    \n",
    "    # iterate over model output\n",
    "    for item in model_output['entities']:\n",
    "        if item['tag'] == 'ORGANIZATION':\n",
    "            orgs.append(item['text'])\n",
    "\n",
    "        if item['tag'] == 'PERSON':\n",
    "            people.append(item['text'])\n",
    "\n",
    "        if item['tag'] == 'LOCATION':\n",
    "            places.append(item['text'])\n",
    "\n",
    "    # use fuzzywuzzy to fuzzy deduplicate the entity type lists\n",
    "    people = fuzzy_dedupe(people)\n",
    "    places = fuzzy_dedupe(places)\n",
    "    orgs = fuzzy_dedupe(orgs)\n",
    "\n",
    "    entities = {'people': people, 'places': places, 'orgs': orgs}\n",
    "\n",
    "    return entities"
   ]
  },
  {
   "cell_type": "markdown",
   "metadata": {},
   "source": [
    "If I try `get_entities` on the sample from earlier we get some pretty solid results!"
   ]
  },
  {
   "cell_type": "code",
   "execution_count": 20,
   "metadata": {
    "collapsed": false
   },
   "outputs": [
    {
     "data": {
      "text/plain": [
       "{'orgs': ['Pegasus Airlines', 'Transportation Ministry', 'NBC Olympics'],\n",
       " 'people': ['Meredith Vieira',\n",
       "  'Jim Bell',\n",
       "  'Josiah Franklin',\n",
       "  'Bob Costas',\n",
       "  'Benjamin Franklin'],\n",
       " 'places': ['Turkey', 'Istanbul', 'Boston', 'Philadelphia', 'Sochi', 'Russia']}"
      ]
     },
     "execution_count": 20,
     "metadata": {},
     "output_type": "execute_result"
    }
   ],
   "source": [
    "get_entities(sample)"
   ]
  },
  {
   "cell_type": "markdown",
   "metadata": {},
   "source": [
    "## Getting some data\n",
    "For this guide I'll be using a selection of news articles. To get the articles, I'm using [Newspaper](https://github.com/codelucas/newspaper). I'm going to scrape about 100 articles off [Ars Technica](http://arstechnica.com/) which I don't really expect to contain much social network information, but it's easy enough data to obtain. In the future I might try to obtain a set of news articles on a particular topic (e.g. pharmaceuticals)."
   ]
  },
  {
   "cell_type": "code",
   "execution_count": 3,
   "metadata": {
    "collapsed": false
   },
   "outputs": [],
   "source": [
    "import requests\n",
    "import json\n",
    "import newspaper"
   ]
  },
  {
   "cell_type": "code",
   "execution_count": 4,
   "metadata": {
    "collapsed": false
   },
   "outputs": [],
   "source": [
    "cnn = newspaper.build('http://cnn.com')"
   ]
  },
  {
   "cell_type": "code",
   "execution_count": 5,
   "metadata": {
    "collapsed": false
   },
   "outputs": [
    {
     "name": "stdout",
     "output_type": "stream",
     "text": [
      "0\n",
      "1\n",
      "2\n",
      "3\n",
      "4\n",
      "5\n",
      "6\n",
      "7\n",
      "8\n",
      "9\n",
      "10\n",
      "11\n",
      "12\n",
      "13\n",
      "14\n",
      "15\n",
      "16\n",
      "17\n",
      "18\n",
      "19\n",
      "20\n",
      "21\n",
      "22\n",
      "23\n",
      "24\n",
      "25\n",
      "26\n",
      "27\n",
      "28\n",
      "29\n",
      "30\n",
      "31\n",
      "32\n",
      "33\n",
      "34\n",
      "35\n",
      "36\n",
      "37\n",
      "38\n",
      "39\n",
      "40\n",
      "41\n",
      "42\n",
      "43\n",
      "44\n",
      "45\n",
      "46\n",
      "47\n",
      "48\n",
      "49\n",
      "50\n",
      "51\n",
      "52\n",
      "53\n",
      "54\n",
      "55\n",
      "56\n",
      "57\n",
      "58\n",
      "59\n",
      "60\n",
      "61\n",
      "62\n",
      "63\n",
      "64\n",
      "65\n",
      "66\n",
      "67\n",
      "68\n",
      "69\n",
      "70\n",
      "71\n",
      "72\n",
      "73\n",
      "74\n",
      "75\n",
      "76\n",
      "77\n",
      "78\n",
      "79\n",
      "80\n",
      "81\n",
      "82\n",
      "83\n",
      "84\n",
      "85\n",
      "86\n",
      "87\n",
      "88\n",
      "89\n",
      "90\n",
      "91\n",
      "92\n",
      "93\n",
      "94\n",
      "95\n",
      "96\n",
      "97\n",
      "98\n",
      "99\n"
     ]
    }
   ],
   "source": [
    "corpus = []\n",
    "count = 0\n",
    "for article in cnn.articles[:100]:\n",
    "    article.download()\n",
    "    article.parse()\n",
    "    text = article.text\n",
    "    corpus.append(text)\n",
    "    print count\n",
    "    count += 1"
   ]
  },
  {
   "cell_type": "code",
   "execution_count": null,
   "metadata": {
    "collapsed": false
   },
   "outputs": [],
   "source": [
    "with open('corpus.txt', 'a') as fp:\n",
    "    count = 0\n",
    "    for item in corpus:\n",
    "        loaded = item.encode('utf-8')\n",
    "        loaded_j = {count: loaded}\n",
    "        fp.write(json.dumps(loaded_j) + '\\n')\n",
    "        count += 1\n",
    "    fp.close()"
   ]
  },
  {
   "cell_type": "markdown",
   "metadata": {},
   "source": [
    "We can read back in the data we wrote to disk in the format of:\n",
    "```\n",
    "data[index]: {'article': 'article text'}\n",
    "```\n",
    "where the index is the order we read in the data."
   ]
  },
  {
   "cell_type": "code",
   "execution_count": 10,
   "metadata": {
    "collapsed": false
   },
   "outputs": [],
   "source": [
    "data = {}\n",
    "with open('corpus.txt', 'r') as fp:\n",
    "    for line in fp:\n",
    "        item = json.loads(line)\n",
    "        key = int(item.keys()[0])\n",
    "        value = item.values()[0].encode('ascii','ignore')\n",
    "        data[key] = {'article':value}\n",
    "    fp.close()"
   ]
  },
  {
   "cell_type": "markdown",
   "metadata": {},
   "source": [
    "Now let's get the entities for each of the articles we've grabbed. We'll write the results back to the `data` dictionary in the format:\n",
    "```\n",
    "data[index]: {\n",
    "              'article': article text,\n",
    "              'entities': \n",
    "                     'people': person entities,\n",
    "                     'places': locations,\n",
    "                     'orgs': organization entities}\n",
    "              }\n",
    "```"
   ]
  },
  {
   "cell_type": "code",
   "execution_count": 11,
   "metadata": {
    "collapsed": false
   },
   "outputs": [],
   "source": [
    "for key in data:\n",
    "    ents = get_entities(data[key]['article'])\n",
    "    data[key]['entities'] = ents"
   ]
  },
  {
   "cell_type": "markdown",
   "metadata": {},
   "source": [
    "Now we need to actually generate the network graph. I'll use the excellent Python library `networkx` to build the network graph. To do this, I need to generate a dictionary of entities where each key is a unique entity and the values are a list of vertices that entity is connected to via an edge. For example, here we are indicating that George Clooney is connected to Bill Murray, Brad Pitt, and Seth Myers and has the highest degree centrality in the social network (due to having the highest number of edges).\n",
    "```\n",
    "{'George Clooney': ['Bill Murray', 'Brad Pitt', 'Seth Myers'],\n",
    " 'Bill Murray': ['Brad Pitt', 'George Clooney'],\n",
    " 'Seth Myers: ['George Clooney'],\n",
    " 'Brad Pitt': ['Bill Murray', 'George Clooney']\n",
    " '}\n",
    "```"
   ]
  },
  {
   "cell_type": "code",
   "execution_count": 12,
   "metadata": {
    "collapsed": true
   },
   "outputs": [],
   "source": [
    "import networkx as nx\n",
    "from networkx.readwrite import json_graph\n",
    "from itertools import combinations"
   ]
  },
  {
   "cell_type": "code",
   "execution_count": 13,
   "metadata": {
    "collapsed": false,
    "scrolled": false
   },
   "outputs": [],
   "source": [
    "entities = {}\n",
    "\n",
    "for key in data:\n",
    "    ents = data[key]['entities']\n",
    "    people = ents['people']\n",
    "    \n",
    "    doc_ents = []\n",
    "    for person in people:\n",
    "        if ' ' in person and len(person) > 10:\n",
    "            doc_ents.append(person)\n",
    "    \n",
    "    for ent in doc_ents:\n",
    "        try:\n",
    "            entities[ent].extend([doc for doc in doc_ents if doc != ent])\n",
    "        except:\n",
    "            entities[ent] = [doc for doc in doc_ents if doc != ent]"
   ]
  },
  {
   "cell_type": "code",
   "execution_count": 45,
   "metadata": {
    "collapsed": true
   },
   "outputs": [],
   "source": [
    "def network_graph(ent_dict):\n",
    "\n",
    "    index = ent_dict.keys()\n",
    "    \n",
    "    g = nx.Graph()\n",
    "\n",
    "    for ind in index:\n",
    "        ents = ent_dict[ind]\n",
    "\n",
    "        # Add previously unseen entities as nodes\n",
    "        for ent in ents:\n",
    "            if ent not in g:\n",
    "                g.add_node(ent, dict(\n",
    "                    name = ent,\n",
    "                    type = 'person',\n",
    "                    degree = str(len(ents))))\n",
    "\n",
    "    for ind in index:\n",
    "        ent = ent_dict[ind]\n",
    "        \n",
    "        for edge in ent:\n",
    "            if edge in index:\n",
    "                new_edge = (ind,edge)\n",
    "                if new_edge not in g.edges(): \n",
    "                    g.add_edge(ind, edge)\n",
    "        \n",
    "    js = json_graph.node_link_data(g)\n",
    "    js['adj'] = g.adj\n",
    "    return (g, js)"
   ]
  },
  {
   "cell_type": "code",
   "execution_count": 116,
   "metadata": {
    "collapsed": false
   },
   "outputs": [],
   "source": [
    "graph = network_graph(entities)"
   ]
  },
  {
   "cell_type": "code",
   "execution_count": 23,
   "metadata": {
    "collapsed": false
   },
   "outputs": [],
   "source": [
    "import matplotlib"
   ]
  },
  {
   "cell_type": "code",
   "execution_count": 24,
   "metadata": {
    "collapsed": true
   },
   "outputs": [],
   "source": [
    "%matplotlib inline"
   ]
  },
  {
   "cell_type": "code",
   "execution_count": 56,
   "metadata": {
    "collapsed": false,
    "scrolled": true
   },
   "outputs": [
    {
     "data": {
      "image/png": "[encoded data removed]",
      "text/plain": [
       "<matplotlib.figure.Figure at 0x7f3d163de990>"
      ]
     },
     "metadata": {},
     "output_type": "display_data"
    }
   ],
   "source": [
    "img = nx.draw_spring(graph[0])"
   ]
  },
  {
   "cell_type": "code",
   "execution_count": 64,
   "metadata": {
    "collapsed": false
   },
   "outputs": [],
   "source": [
    "edges = [(int(i['source']),int(i['target'])) for i in graph[1]['links']]"
   ]
  },
  {
   "cell_type": "code",
   "execution_count": 112,
   "metadata": {
    "collapsed": false
   },
   "outputs": [],
   "source": [
    "pos = nx.layout.random_layout(g)"
   ]
  },
  {
   "cell_type": "code",
   "execution_count": 113,
   "metadata": {
    "collapsed": false
   },
   "outputs": [
    {
     "data": {
      "image/png": "[encoded data removed]",
      "text/plain": [
       "<matplotlib.figure.Figure at 0x7f3d16aef0d0>"
      ]
     },
     "metadata": {},
     "output_type": "display_data"
    }
   ],
   "source": [
    "nx.draw(g, pos)"
   ]
  },
  {
   "cell_type": "code",
   "execution_count": null,
   "metadata": {
    "collapsed": true
   },
   "outputs": [],
   "source": []
  }
 ],
 "metadata": {
  "kernelspec": {
   "display_name": "Python 2",
   "language": "python",
   "name": "python2"
  },
  "language_info": {
   "codemirror_mode": {
    "name": "ipython",
    "version": 2
   },
   "file_extension": ".py",
   "mimetype": "text/x-python",
   "name": "python",
   "nbconvert_exporter": "python",
   "pygments_lexer": "ipython2",
   "version": "2.7.10"
  }
 },
 "nbformat": 4,
 "nbformat_minor": 0
}
